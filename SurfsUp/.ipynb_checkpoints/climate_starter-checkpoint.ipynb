{
 "cells": [
  {
   "cell_type": "code",
   "execution_count": 1,
   "metadata": {},
   "outputs": [],
   "source": [
    "# Matplotlib dependencies\n",
    "%matplotlib inline\n",
    "from matplotlib import style\n",
    "style.use('fivethirtyeight')\n",
    "import matplotlib.pyplot as plt"
   ]
  },
  {
   "cell_type": "code",
   "execution_count": 2,
   "metadata": {},
   "outputs": [],
   "source": [
    "# pandas, numpy and date dependencies\n",
    "import numpy as np\n",
    "import pandas as pd\n",
    "import datetime as dt"
   ]
  },
  {
   "cell_type": "markdown",
   "metadata": {},
   "source": [
    "# Reflect Tables into SQLAlchemy ORM"
   ]
  },
  {
   "cell_type": "code",
   "execution_count": 3,
   "metadata": {},
   "outputs": [],
   "source": [
    "# Python SQL toolkit and Object Relational Mapper\n",
    "import sqlalchemy\n",
    "from sqlalchemy.ext.automap import automap_base\n",
    "from sqlalchemy.orm import Session\n",
    "from sqlalchemy import create_engine, func"
   ]
  },
  {
   "cell_type": "code",
   "execution_count": 4,
   "metadata": {},
   "outputs": [],
   "source": [
    "# Declare a base using automap_base()\n",
    "Base = automap_base()"
   ]
  },
  {
   "cell_type": "code",
   "execution_count": 5,
   "metadata": {},
   "outputs": [],
   "source": [
    "# create engine to hawaii.sqlite\n",
    "engine = create_engine(\"sqlite:///Resources/hawaii.sqlite\")"
   ]
  },
  {
   "cell_type": "code",
   "execution_count": 6,
   "metadata": {},
   "outputs": [],
   "source": [
    "# reflect an existing database into a new model\n",
    "Base.prepare(autoload_with=engine)\n",
    "# Alternative statement on some other versions\n",
    "# reflect the tables"
   ]
  },
  {
   "cell_type": "code",
   "execution_count": 7,
   "metadata": {},
   "outputs": [
    {
     "data": {
      "text/plain": [
       "['measurement', 'station']"
      ]
     },
     "execution_count": 7,
     "metadata": {},
     "output_type": "execute_result"
    }
   ],
   "source": [
    "# View all of the classes that automap found\n",
    "Base.classes.keys()"
   ]
  },
  {
   "cell_type": "code",
   "execution_count": 13,
   "metadata": {},
   "outputs": [],
   "source": [
    "# Save references to each table: Assign class to variable\n",
    "Measurement = Base.classes.measurement\n",
    "Station = Base.classes.station"
   ]
  },
  {
   "cell_type": "code",
   "execution_count": 14,
   "metadata": {},
   "outputs": [],
   "source": [
    "# Create our session (link) from Python to the DB\n",
    "session = Session(bind=engine)\n",
    "measurement_tbl = session.query(Measurement)\n",
    "station_tbl = session.query(Station)"
   ]
  },
  {
   "cell_type": "code",
   "execution_count": 15,
   "metadata": {},
   "outputs": [
    {
     "data": {
      "text/plain": [
       "['measurement', 'station']"
      ]
     },
     "execution_count": 15,
     "metadata": {},
     "output_type": "execute_result"
    }
   ],
   "source": [
    "# Inspect the tables\n",
    "from sqlalchemy import inspect\n",
    "inspector = inspect(engine)\n",
    "inspector.get_table_names()"
   ]
  },
  {
   "cell_type": "code",
   "execution_count": 18,
   "metadata": {},
   "outputs": [
    {
     "name": "stdout",
     "output_type": "stream",
     "text": [
      "id INTEGER\n",
      "station TEXT\n",
      "date TEXT\n",
      "prcp FLOAT\n",
      "tobs FLOAT\n",
      "id INTEGER\n",
      "station TEXT\n",
      "name TEXT\n",
      "latitude FLOAT\n",
      "longitude FLOAT\n",
      "elevation FLOAT\n"
     ]
    }
   ],
   "source": [
    "columns = inspector.get_columns('measurement')\n",
    "for column in columns:\n",
    "    print(column[\"name\"], column[\"type\"])\n",
    "\n",
    "columns = inspector.get_columns('station')\n",
    "for column in columns:\n",
    "    print(column[\"name\"], column[\"type\"])"
   ]
  },
  {
   "cell_type": "markdown",
   "metadata": {},
   "source": [
    "# Exploratory Precipitation Analysis"
   ]
  },
  {
   "cell_type": "code",
   "execution_count": 41,
   "metadata": {},
   "outputs": [
    {
     "data": {
      "text/plain": [
       "'2017-08-23'"
      ]
     },
     "execution_count": 41,
     "metadata": {},
     "output_type": "execute_result"
    }
   ],
   "source": [
    "# Find the most recent date in the data set.\n",
    "most_recent_date = session.query(Measurement).order_by(Measurement.date.desc()).first()\n",
    "most_recent_date.__dict__[\"date\"]"
   ]
  },
  {
   "cell_type": "code",
   "execution_count": null,
   "metadata": {},
   "outputs": [],
   "source": []
  },
  {
   "cell_type": "code",
   "execution_count": 118,
   "metadata": {},
   "outputs": [
    {
     "name": "stdout",
     "output_type": "stream",
     "text": [
      "2016-08-23\n"
     ]
    },
    {
     "data": {
      "image/png": "[encoded data removed]",
      "text/plain": [
       "<Figure size 640x480 with 1 Axes>"
      ]
     },
     "metadata": {},
     "output_type": "display_data"
    }
   ],
   "source": [
    "# Design a query to retrieve the last 12 months of precipitation data and plot the results. \n",
    "# Starting from the most recent data point in the database. \n",
    "\n",
    "# Calculate the date one year from the last date in data set.\n",
    "year_ago = dt.date(2017,8,23) - dt.timedelta(days=365)\n",
    "print(year_ago)\n",
    "# Perform a query to retrieve the data and precipitation scores\n",
    "ex_prcp_ana = session.query(Measurement.date, Measurement.prcp).filter(Measurement.date >= year_ago).all()\n",
    "# print(ex_prcp_ana)\n",
    "# Save the query results as a Pandas DataFrame and set the index to the date column\n",
    "ex_prcp_ana_data = [{\"Date\": row[0], \"Precipitation\": row[1]} for row in ex_prcp_ana]\n",
    "# print(ex_prcp_ana_data)\n",
    "# Sort the dataframe by date\n",
    "ex_prcp_ana_df = pd.DataFrame(ex_prcp_ana_data).set_index(\"Date\").sort_values([\"Date\"])\n",
    "# ex_prcp_ana_df\n",
    "\n",
    "\n",
    "\n",
    "\n",
    "# Use Pandas Plotting with Matplotlib to plot the data\n",
    "# ex_prcp_ana_df\n",
    "ex_prcp_ana_df.plot.bar()\n",
    "plt.tight_layout()\n",
    "plt.show()\n"
   ]
  },
  {
   "cell_type": "code",
   "execution_count": 75,
   "metadata": {},
   "outputs": [],
   "source": [
    "# Use Pandas to calcualte the summary statistics for the precipitation data\n"
   ]
  },
  {
   "cell_type": "markdown",
   "metadata": {},
   "source": [
    "# Exploratory Station Analysis"
   ]
  },
  {
   "cell_type": "code",
   "execution_count": 113,
   "metadata": {},
   "outputs": [
    {
     "name": "stdout",
     "output_type": "stream",
     "text": [
      "The number of unique weather stations is: 9.\n",
      "19550\n",
      "The total number of station measurements for the 9 stations are: 19550.\n"
     ]
    }
   ],
   "source": [
    "# Design a query to calculate the total number stations in the dataset\n",
    "# Number of unique stations\n",
    "unique_station_count =  session.query(Station).count()\n",
    "print(f\"The number of unique weather stations is: {unique_station_count}.\")\n",
    "# from sqlalchemy import distinct\n",
    "# station_count =  session.query(func.count(distinct(Measurement.station)))\n",
    "\n",
    "rows = session.query(func.count(Measurement.station)).scalar()\n",
    "print(rows)\n",
    "station_count =  session.query(Measurement).order_by(\"station\").count()\n",
    "print(f\"The total number of station measurements for the {unique_station_count} stations are: {station_count}.\")"
   ]
  },
  {
   "cell_type": "code",
   "execution_count": 131,
   "metadata": {},
   "outputs": [
    {
     "data": {
      "text/plain": [
       "[('USC00519281', 2772, 'WAIHEE 837.5, HI US'),\n",
       " ('USC00519397', 2724, 'WAIKIKI 717.2, HI US'),\n",
       " ('USC00513117', 2709, 'KANEOHE 838.1, HI US'),\n",
       " ('USC00519523', 2669, 'WAIMANALO EXPERIMENTAL FARM, HI US'),\n",
       " ('USC00516128', 2612, 'MANOA LYON ARBO 785.2, HI US'),\n",
       " ('USC00514830', 2202, 'KUALOA RANCH HEADQUARTERS 886.9, HI US'),\n",
       " ('USC00511918', 1979, 'HONOLULU OBSERVATORY 702.2, HI US'),\n",
       " ('USC00517948', 1372, 'PEARL CITY, HI US'),\n",
       " ('USC00518838', 511, 'UPPER WAHIAWA 874.3, HI US')]"
      ]
     },
     "execution_count": 131,
     "metadata": {},
     "output_type": "execute_result"
    }
   ],
   "source": [
    "# Design a query to find the most active stations (i.e. what stations have the most rows?)\n",
    "# List the stations and the counts in descending order.\n",
    "\n",
    "station_activity = [Measurement.station, \n",
    "    func.count(Measurement.date), Station.name]\n",
    "list_station_count = session.query(*station_activity).filter(Measurement.station == Station.station).group_by(Measurement.station).\\\n",
    "    order_by(func.count(Measurement.date).desc()).all()\n",
    "list_station_count\n",
    "\n",
    "#Note: data above is not based on precipitation. there were some NULL values.\n",
    "# while values are NULL the stations was still used to collect TOBS data"
   ]
  },
  {
   "cell_type": "code",
   "execution_count": 190,
   "metadata": {},
   "outputs": [
    {
     "name": "stdout",
     "output_type": "stream",
     "text": [
      "The lowest temperature was (12.2,), the maximum temperature was (29.4,), and the average temperature was (22.03582251082252,).\n"
     ]
    }
   ],
   "source": [
    "# Using the most active station id from the previous query, calculate the lowest, highest, and average temperature.\n",
    "# stats_for_active_station = session.query(func.min(Measurement.tobs), func.max(Measurement.tobs), func.avg(Measurement.tobs)).\\\n",
    "#     filter(Measurement.station == \"USC00519281\").all()\n",
    "min_temp = session.query(func.min(Measurement.tobs)).filter(Measurement.station == \"USC00519281\").all()\n",
    "max_temp = session.query(func.max(Measurement.tobs)).filter(Measurement.station == \"USC00519281\").all()\n",
    "avg_temp = session.query(func.avg(Measurement.tobs)).filter(Measurement.station == \"USC00519281\").all()\n",
    "# stats_for_active_station\n",
    "print(f\"The lowest temperature was {min_temp[0]}, the maximum temperature was {max_temp[0]}, and the average temperature was {avg_temp[0]}.\")\n",
    "# most_active_data1 = [{\"Date\": row[0], \"Precipitation\": row[1]} for row in most_active_data]\n",
    "# print(most_active_data1)\n",
    "# Sort the dataframe by date\n",
    "# most_active_data1_df = pd.DataFrame(most_active_data1)\n",
    "# most_active_data1_df\n"
   ]
  },
  {
   "cell_type": "code",
   "execution_count": 194,
   "metadata": {},
   "outputs": [
    {
     "data": {
      "image/png": "[encoded data removed]",
      "text/plain": [
       "<Figure size 640x480 with 1 Axes>"
      ]
     },
     "metadata": {},
     "output_type": "display_data"
    }
   ],
   "source": [
    "# Using the most active station id\n",
    "# Query the last 12 months of temperature observation data for this station and plot the results as a histogram\n",
    "last_year_temp = session.query(Measurement.tobs).\\\n",
    "    filter(Measurement.date >= year_ago).\\\n",
    "    filter(Measurement.station == \"USC00519281\").all()\n",
    "# print(last_year_temp)\n",
    "last_year_temperature = [{\"Temperature\": row[0]} for row in last_year_temp]\n",
    "\n",
    "last_year_temperature_df = pd.DataFrame(last_year_temperature)\n",
    "# last_year_temperature_df\n",
    "\n",
    "plt.hist(last_year_temperature_df['Temperature'], bins = 12)\n",
    "plt.xlabel('Temperature')\n",
    "plt.ylabel('Frequency')\n",
    "plt.show()\n",
    "\n"
   ]
  },
  {
   "cell_type": "code",
   "execution_count": 195,
   "metadata": {},
   "outputs": [],
   "source": [
    "# # Using the most active station id\n",
    "# # Query the last 12 months of temperature observation data for this station and plot the results as a histogram\n",
    "# last_year = session.query(Measurement.tobs, func.count(Measurement.date)).\\\n",
    "#     filter(Measurement.date >= year_ago).\\\n",
    "#     filter(Measurement.station == \"USC00519281\").\\\n",
    "#     group_by(Measurement.tobs).all()\n",
    "# print(last_year)\n"
   ]
  },
  {
   "cell_type": "code",
   "execution_count": 196,
   "metadata": {},
   "outputs": [],
   "source": [
    "# last_year_data = [{\"Temperature\": row[0], \"Frequency\": row[1]} for row in last_year]\n",
    "# # print(ex_prcp_ana_data)\n",
    "# # Sort the dataframe by date\n",
    "# last_year_data_df = pd.DataFrame(last_year_data)\n",
    "# # print(last_year_data_df)\n",
    "# # bins\n",
    "# bins = [14.9,16.2,17.4,18.6,19.8,21,22.2,23.4,24.6,25.8,27,28.3]\n",
    "# # bin labels\n",
    "# group_labels =[15,16.2,17.4,18.6,19.8,21,22.2,23.4,24.6,25.8,27]\n",
    "# last_year_data_df[\"binned_temperature\"] = pd.cut(last_year_data_df[\"Temperature\"], bins, labels=group_labels)\n",
    "# last_year_data_df\n",
    "# Data_for_graph = last_year_data_df.groupby(\"binned_temperature\")[\"Frequency\"].sum()\n",
    "# Data_for_graph_df = Data_for_graph.to_frame()\n",
    "# # Data_for_graph_df = Data_for_graph[\"Frequency\"].sum()\n",
    "# Data_for_graph_df\n",
    "# Data_for_graph_df.to_csv('Data_for_graph_df.csv')"
   ]
  },
  {
   "cell_type": "code",
   "execution_count": 197,
   "metadata": {},
   "outputs": [],
   "source": [
    "# # Using the most active station id\n",
    "# # Query the last 12 months of temperature observation data for this station and plot the results as a histogram\n",
    "# last_year_new = session.query(Measurement.tobs, Measurement.date).\\\n",
    "#     filter(Measurement.date >= year_ago).\\\n",
    "#     filter(Measurement.station == \"USC00519281\").all()\n",
    "# print(last_year_new)\n"
   ]
  },
  {
   "cell_type": "code",
   "execution_count": 198,
   "metadata": {},
   "outputs": [],
   "source": [
    "# last_year_new_data = [{\"Temperature\": row[0], \"Date\": row[1]} for row in last_year_new]\n",
    "# # print(ex_prcp_ana_data)\n",
    "# # Sort the dataframe by date\n",
    "# last_year_new_data_df = pd.DataFrame(last_year_new_data)\n",
    "\n",
    "# last_year_new_data_df.to_csv('last_year_new_data_df.csv')\n",
    "# # print(last_year_new_data_df)\n",
    "# # bins\n",
    "# bins = [15,16.2,17.4,18.6,19.8,21,22.2,23.4,24.6,25.8,27,28.2,29.4]\n",
    "# # bin labels\n",
    "# group_labels =[15,16.2,17.4,18.6,19.8,21,22.2,23.4,24.6,25.8,27,28.2]\n",
    "# last_year_new_data_df[\"binned_temperature\"] = pd.cut(last_year_new_data_df[\"Temperature\"], bins, labels=group_labels)\n",
    "# last_year_new_data_df\n",
    "# last_year_new_data_df.to_csv('last_year_new_data_df2.csv')\n",
    "# # new_data_for_graph = last_year_new_data_df.groupby(\"binned_temperature\")[\"Frequency\"].sum()\n",
    "# # new_data_for_graph_df = new_data_for_graph.to_frame()\n",
    "# # # Data_for_graph_df = Data_for_graph[\"Frequency\"].sum()\n",
    "# # Data_for_graph_df"
   ]
  },
  {
   "cell_type": "code",
   "execution_count": 199,
   "metadata": {},
   "outputs": [],
   "source": [
    "# plt.hist(last_year_new_data_df['Temperature'], bins = 12)\n",
    "# plt.xlabel('Temperature')\n",
    "# plt.ylabel('Frequency')\n",
    "# plt.show()"
   ]
  },
  {
   "cell_type": "markdown",
   "metadata": {},
   "source": [
    "# Close session"
   ]
  },
  {
   "cell_type": "code",
   "execution_count": null,
   "metadata": {},
   "outputs": [],
   "source": [
    "# Close Session\n",
    "session.close()"
   ]
  },
  {
   "cell_type": "code",
   "execution_count": null,
   "metadata": {},
   "outputs": [],
   "source": []
  }
 ],
 "metadata": {
  "anaconda-cloud": {},
  "kernel_info": {
   "name": "python3"
  },
  "kernelspec": {
   "display_name": "Python 3 (ipykernel)",
   "language": "python",
   "name": "python3"
  },
  "language_info": {
   "codemirror_mode": {
    "name": "ipython",
    "version": 3
   },
   "file_extension": ".py",
   "mimetype": "text/x-python",
   "name": "python",
   "nbconvert_exporter": "python",
   "pygments_lexer": "ipython3",
   "version": "3.9.13"
  },
  "nteract": {
   "version": "0.12.3"
  },
  "varInspector": {
   "cols": {
    "lenName": 16,
    "lenType": 16,
    "lenVar": 40
   },
   "kernels_config": {
    "python": {
     "delete_cmd_postfix": "",
     "delete_cmd_prefix": "del ",
     "library": "var_list.py",
     "varRefreshCmd": "print(var_dic_list())"
    },
    "r": {
     "delete_cmd_postfix": ") ",
     "delete_cmd_prefix": "rm(",
     "library": "var_list.r",
     "varRefreshCmd": "cat(var_dic_list()) "
    }
   },
   "types_to_exclude": [
    "module",
    "function",
    "builtin_function_or_method",
    "instance",
    "_Feature"
   ],
   "window_display": false
  }
 },
 "nbformat": 4,
 "nbformat_minor": 2
}
