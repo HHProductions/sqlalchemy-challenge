{
 "cells": [
  {
   "cell_type": "code",
   "execution_count": 3,
   "id": "ab573cbb",
   "metadata": {},
   "outputs": [],
   "source": [
    "import numpy as np\n",
    "\n",
    "import sqlalchemy\n",
    "from sqlalchemy.ext.automap import automap_base\n",
    "from sqlalchemy.orm import Session\n",
    "from sqlalchemy import create_engine, func\n",
    "\n",
    "from flask import Flask, jsonify\n",
    "import datetime as dt\n",
    "\n",
    "# Database Setup\n",
    "engine = create_engine(\"sqlite:///Resources/hawaii.sqlite\")\n",
    "\n",
    "\n",
    "# reflect an existing database into a new model\n",
    "Base = automap_base()\n",
    "# reflect the tables\n",
    "Base.prepare(autoload_with=engine)\n",
    "\n",
    "# Save reference to the table\n",
    "Measurement = Base.classes.measurement\n",
    "Station = Base.classes.station\n"
   ]
  },
  {
   "cell_type": "code",
   "execution_count": 15,
   "id": "c74fd7f5",
   "metadata": {},
   "outputs": [
    {
     "name": "stdout",
     "output_type": "stream",
     "text": [
      "[(15.0,)]\n",
      "[(28.3,)]\n",
      "[(22.835511363636343,)]\n"
     ]
    }
   ],
   "source": [
    "    # Create our session (link) from Python to the DB\n",
    "    session = Session(engine)\n",
    "\n",
    "#     \"\"\"Return a list temperatures\"\"\"\n",
    "#     # Query all temperatures for station USC00519281\n",
    "    year_ago = dt.date(2017,8,23) - dt.timedelta(days=365)\n",
    "    results = session.query(Measurement.date, Measurement.tobs).\\\n",
    "        filter(Measurement.date >= year_ago).\\\n",
    "        filter(Measurement.station == \"USC00519281\").all()\n",
    "\n",
    "    session.close()\n",
    "    # Create a dictionary from the row data and append to a list of temperature data\n",
    "    all_temperature = []\n",
    "    for date, tobs in results:\n",
    "        temp_dict = {}\n",
    "        temp_dict[\"date\"] = date\n",
    "        temp_dict[\"tobs\"] = tobs\n",
    "        all_temperature.append(temp_dict)\n",
    "\n",
    "# print(all_temperature)\n",
    "\n",
    "\n",
    "\n",
    "# ##############\n",
    "\n",
    "# \n",
    "    session = Session(engine)\n",
    "\n",
    "    \"\"\"Return a stats on temperatures\"\"\"\n",
    "    # Query all temperatures for station USC00519281\n",
    "\n",
    "    min_temp = session.query(func.min(Measurement.tobs)).filter(Measurement.date>=\"2016-08-23\").\\\n",
    "    filter(Measurement.station == \"USC00519281\").all()\n",
    "    max_temp = session.query(func.max(Measurement.tobs)).filter(Measurement.date>=\"2016-08-23\").\\\n",
    "    filter(Measurement.station == \"USC00519281\").all()\n",
    "    avg_temp = session.query(func.avg(Measurement.tobs)).filter(Measurement.date>=\"2016-08-23\").\\\n",
    "    filter(Measurement.station == \"USC00519281\").all()\n",
    "        # filter(Measurement.date>=\"2016-08-23\").\\\n",
    "print(min_temp)\n",
    "print(max_temp)\n",
    "print(avg_temp)\n"
   ]
  },
  {
   "cell_type": "code",
   "execution_count": null,
   "id": "58b24394",
   "metadata": {},
   "outputs": [],
   "source": []
  }
 ],
 "metadata": {
  "kernelspec": {
   "display_name": "Python 3 (ipykernel)",
   "language": "python",
   "name": "python3"
  },
  "language_info": {
   "codemirror_mode": {
    "name": "ipython",
    "version": 3
   },
   "file_extension": ".py",
   "mimetype": "text/x-python",
   "name": "python",
   "nbconvert_exporter": "python",
   "pygments_lexer": "ipython3",
   "version": "3.9.13"
  }
 },
 "nbformat": 4,
 "nbformat_minor": 5
}
