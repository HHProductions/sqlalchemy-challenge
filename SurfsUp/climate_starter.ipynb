{
 "cells": [
  {
   "cell_type": "code",
   "execution_count": 1,
   "metadata": {},
   "outputs": [],
   "source": [
    "# Matplotlib dependencies\n",
    "%matplotlib inline\n",
    "from matplotlib import style\n",
    "style.use('fivethirtyeight')\n",
    "import matplotlib.pyplot as plt"
   ]
  },
  {
   "cell_type": "code",
   "execution_count": 2,
   "metadata": {},
   "outputs": [],
   "source": [
    "# pandas, numpy and date dependencies\n",
    "import numpy as np\n",
    "import pandas as pd\n",
    "import datetime as dt"
   ]
  },
  {
   "cell_type": "markdown",
   "metadata": {},
   "source": [
    "# Reflect Tables into SQLAlchemy ORM"
   ]
  },
  {
   "cell_type": "code",
   "execution_count": 3,
   "metadata": {},
   "outputs": [],
   "source": [
    "# Python SQL toolkit and Object Relational Mapper\n",
    "import sqlalchemy\n",
    "from sqlalchemy.ext.automap import automap_base\n",
    "from sqlalchemy.orm import Session\n",
    "from sqlalchemy import create_engine, func"
   ]
  },
  {
   "cell_type": "code",
   "execution_count": 4,
   "metadata": {},
   "outputs": [],
   "source": [
    "# Declare a base using automap_base()\n",
    "Base = automap_base()"
   ]
  },
  {
   "cell_type": "code",
   "execution_count": 5,
   "metadata": {},
   "outputs": [],
   "source": [
    "# create engine to hawaii.sqlite\n",
    "engine = create_engine(\"sqlite:///Resources/hawaii.sqlite\")"
   ]
  },
  {
   "cell_type": "code",
   "execution_count": 6,
   "metadata": {},
   "outputs": [],
   "source": [
    "# reflect an existing database into a new model\n",
    "Base.prepare(autoload_with=engine)\n",
    "# Alternative statement on some other versions\n",
    "# reflect the tables"
   ]
  },
  {
   "cell_type": "code",
   "execution_count": 7,
   "metadata": {},
   "outputs": [
    {
     "data": {
      "text/plain": [
       "['measurement', 'station']"
      ]
     },
     "execution_count": 7,
     "metadata": {},
     "output_type": "execute_result"
    }
   ],
   "source": [
    "# View all of the classes that automap found\n",
    "Base.classes.keys()"
   ]
  },
  {
   "cell_type": "code",
   "execution_count": 13,
   "metadata": {},
   "outputs": [],
   "source": [
    "# Save references to each table: Assign class to variable\n",
    "Measurement = Base.classes.measurement\n",
    "Station = Base.classes.station"
   ]
  },
  {
   "cell_type": "code",
   "execution_count": 14,
   "metadata": {},
   "outputs": [],
   "source": [
    "# Create our session (link) from Python to the DB\n",
    "session = Session(bind=engine)\n",
    "measurement_tbl = session.query(Measurement)\n",
    "station_tbl = session.query(Station)"
   ]
  },
  {
   "cell_type": "code",
   "execution_count": 15,
   "metadata": {},
   "outputs": [
    {
     "data": {
      "text/plain": [
       "['measurement', 'station']"
      ]
     },
     "execution_count": 15,
     "metadata": {},
     "output_type": "execute_result"
    }
   ],
   "source": [
    "# Inspect the tables\n",
    "from sqlalchemy import inspect\n",
    "inspector = inspect(engine)\n",
    "inspector.get_table_names()"
   ]
  },
  {
   "cell_type": "code",
   "execution_count": 18,
   "metadata": {},
   "outputs": [
    {
     "name": "stdout",
     "output_type": "stream",
     "text": [
      "id INTEGER\n",
      "station TEXT\n",
      "date TEXT\n",
      "prcp FLOAT\n",
      "tobs FLOAT\n",
      "id INTEGER\n",
      "station TEXT\n",
      "name TEXT\n",
      "latitude FLOAT\n",
      "longitude FLOAT\n",
      "elevation FLOAT\n"
     ]
    }
   ],
   "source": [
    "columns = inspector.get_columns('measurement')\n",
    "for column in columns:\n",
    "    print(column[\"name\"], column[\"type\"])\n",
    "\n",
    "columns = inspector.get_columns('station')\n",
    "for column in columns:\n",
    "    print(column[\"name\"], column[\"type\"])"
   ]
  },
  {
   "cell_type": "markdown",
   "metadata": {},
   "source": [
    "# Exploratory Precipitation Analysis"
   ]
  },
  {
   "cell_type": "code",
   "execution_count": 41,
   "metadata": {},
   "outputs": [
    {
     "data": {
      "text/plain": [
       "'2017-08-23'"
      ]
     },
     "execution_count": 41,
     "metadata": {},
     "output_type": "execute_result"
    }
   ],
   "source": [
    "# Find the most recent date in the data set.\n",
    "most_recent_date = session.query(Measurement).order_by(Measurement.date.desc()).first()\n",
    "most_recent_date.__dict__[\"date\"]"
   ]
  },
  {
   "cell_type": "code",
   "execution_count": null,
   "metadata": {},
   "outputs": [],
   "source": []
  },
  {
   "cell_type": "code",
   "execution_count": 118,
   "metadata": {},
   "outputs": [
    {
     "name": "stdout",
     "output_type": "stream",
     "text": [
      "2016-08-23\n"
     ]
    },
    {
     "data": {
      "image/png": "[encoded data removed]",
      "text/plain": [
       "<Figure size 640x480 with 1 Axes>"
      ]
     },
     "metadata": {},
     "output_type": "display_data"
    }
   ],
   "source": [
    "# Design a query to retrieve the last 12 months of precipitation data and plot the results. \n",
    "# Starting from the most recent data point in the database. \n",
    "\n",
    "# Calculate the date one year from the last date in data set.\n",
    "year_ago = dt.date(2017,8,23) - dt.timedelta(days=365)\n",
    "print(year_ago)\n",
    "# Perform a query to retrieve the data and precipitation scores\n",
    "ex_prcp_ana = session.query(Measurement.date, Measurement.prcp).filter(Measurement.date >= year_ago).all()\n",
    "# print(ex_prcp_ana)\n",
    "# Save the query results as a Pandas DataFrame and set the index to the date column\n",
    "ex_prcp_ana_data = [{\"Date\": row[0], \"Precipitation\": row[1]} for row in ex_prcp_ana]\n",
    "# print(ex_prcp_ana_data)\n",
    "# Sort the dataframe by date\n",
    "ex_prcp_ana_df = pd.DataFrame(ex_prcp_ana_data).set_index(\"Date\").sort_values([\"Date\"])\n",
    "# ex_prcp_ana_df\n",
    "\n",
    "\n",
    "\n",
    "\n",
    "# Use Pandas Plotting with Matplotlib to plot the data\n",
    "# ex_prcp_ana_df\n",
    "ex_prcp_ana_df.plot.bar()\n",
    "plt.tight_layout()\n",
    "plt.show()\n"
   ]
  },
  {
   "cell_type": "code",
   "execution_count": 75,
   "metadata": {},
   "outputs": [],
   "source": [
    "# Use Pandas to calcualte the summary statistics for the precipitation data\n"
   ]
  },
  {
   "cell_type": "markdown",
   "metadata": {},
   "source": [
    "# Exploratory Station Analysis"
   ]
  },
  {
   "cell_type": "code",
   "execution_count": 113,
   "metadata": {},
   "outputs": [
    {
     "name": "stdout",
     "output_type": "stream",
     "text": [
      "The number of unique weather stations is: 9.\n",
      "19550\n",
      "The total number of station measurements for the 9 stations are: 19550.\n"
     ]
    }
   ],
   "source": [
    "# Design a query to calculate the total number stations in the dataset\n",
    "# Number of unique stations\n",
    "unique_station_count =  session.query(Station).count()\n",
    "print(f\"The number of unique weather stations is: {unique_station_count}.\")\n",
    "# from sqlalchemy import distinct\n",
    "# station_count =  session.query(func.count(distinct(Measurement.station)))\n",
    "\n",
    "rows = session.query(func.count(Measurement.station)).scalar()\n",
    "print(rows)\n",
    "station_count =  session.query(Measurement).order_by(\"station\").count()\n",
    "print(f\"The total number of station measurements for the {unique_station_count} stations are: {station_count}.\")"
   ]
  },
  {
   "cell_type": "code",
   "execution_count": 131,
   "metadata": {},
   "outputs": [
    {
     "data": {
      "text/plain": [
       "[('USC00519281', 2772, 'WAIHEE 837.5, HI US'),\n",
       " ('USC00519397', 2724, 'WAIKIKI 717.2, HI US'),\n",
       " ('USC00513117', 2709, 'KANEOHE 838.1, HI US'),\n",
       " ('USC00519523', 2669, 'WAIMANALO EXPERIMENTAL FARM, HI US'),\n",
       " ('USC00516128', 2612, 'MANOA LYON ARBO 785.2, HI US'),\n",
       " ('USC00514830', 2202, 'KUALOA RANCH HEADQUARTERS 886.9, HI US'),\n",
       " ('USC00511918', 1979, 'HONOLULU OBSERVATORY 702.2, HI US'),\n",
       " ('USC00517948', 1372, 'PEARL CITY, HI US'),\n",
       " ('USC00518838', 511, 'UPPER WAHIAWA 874.3, HI US')]"
      ]
     },
     "execution_count": 131,
     "metadata": {},
     "output_type": "execute_result"
    }
   ],
   "source": [
    "# Design a query to find the most active stations (i.e. what stations have the most rows?)\n",
    "# List the stations and the counts in descending order.\n",
    "\n",
    "station_activity = [Measurement.station, \n",
    "    func.count(Measurement.date), Station.name]\n",
    "list_station_count = session.query(*station_activity).filter(Measurement.station == Station.station).group_by(Measurement.station).\\\n",
    "    order_by(func.count(Measurement.date).desc()).all()\n",
    "list_station_count\n",
    "\n",
    "#Note: data above is not based on precipitation. there were some NULL values.\n",
    "# while values are NULL the stations was still used to collect TOBS data"
   ]
  },
  {
   "cell_type": "code",
   "execution_count": 130,
   "metadata": {},
   "outputs": [
    {
     "name": "stdout",
     "output_type": "stream",
     "text": [
      "[(12.2, 29.4, 22.03582251082252)]\n"
     ]
    }
   ],
   "source": [
    "# Using the most active station id from the previous query, calculate the lowest, highest, and average temperature.\n",
    "stats_for_active_station = session.query(func.min(Measurement.tobs), func.max(Measurement.tobs), func.avg(Measurement.tobs)).\\\n",
    "    filter(Measurement.station == \"USC00519281\").all()\n",
    "print(stats_for_active_station)\n",
    "# most_active_data1 = [{\"Date\": row[0], \"Precipitation\": row[1]} for row in most_active_data]\n",
    "# print(most_active_data1)\n",
    "# Sort the dataframe by date\n",
    "# most_active_data1_df = pd.DataFrame(most_active_data1)\n",
    "# most_active_data1_df\n"
   ]
  },
  {
   "cell_type": "code",
   "execution_count": 135,
   "metadata": {},
   "outputs": [
    {
     "name": "stdout",
     "output_type": "stream",
     "text": [
      "[(15.0, 3), (15.6, 2), (16.1, 1), (16.7, 6), (17.2, 4), (17.8, 3), (18.3, 7), (18.9, 5), (19.4, 15), (20.0, 12), (20.6, 19), (21.1, 22), (21.7, 18), (22.2, 22), (22.8, 18), (23.3, 39), (23.9, 33), (24.4, 33), (25.0, 31), (25.6, 22), (26.1, 18), (26.7, 11), (27.2, 4), (27.8, 3), (28.3, 1)]\n"
     ]
    }
   ],
   "source": [
    "# Using the most active station id\n",
    "# Query the last 12 months of temperature observation data for this station and plot the results as a histogram\n",
    "last_year = session.query(Measurement.tobs, func.count(Measurement.date)).\\\n",
    "    filter(Measurement.date >= year_ago).\\\n",
    "    filter(Measurement.station == \"USC00519281\").\\\n",
    "    group_by(Measurement.tobs).all()\n",
    "print(last_year)"
   ]
  },
  {
   "cell_type": "code",
   "execution_count": 149,
   "metadata": {},
   "outputs": [
    {
     "data": {
      "text/html": [
       "<div>\n",
       "<style scoped>\n",
       "    .dataframe tbody tr th:only-of-type {\n",
       "        vertical-align: middle;\n",
       "    }\n",
       "\n",
       "    .dataframe tbody tr th {\n",
       "        vertical-align: top;\n",
       "    }\n",
       "\n",
       "    .dataframe thead th {\n",
       "        text-align: right;\n",
       "    }\n",
       "</style>\n",
       "<table border=\"1\" class=\"dataframe\">\n",
       "  <thead>\n",
       "    <tr style=\"text-align: right;\">\n",
       "      <th></th>\n",
       "      <th>Frequency</th>\n",
       "    </tr>\n",
       "    <tr>\n",
       "      <th>binned_temperature</th>\n",
       "      <th></th>\n",
       "    </tr>\n",
       "  </thead>\n",
       "  <tbody>\n",
       "    <tr>\n",
       "      <th>15.0</th>\n",
       "      <td>6</td>\n",
       "    </tr>\n",
       "    <tr>\n",
       "      <th>16.2</th>\n",
       "      <td>10</td>\n",
       "    </tr>\n",
       "    <tr>\n",
       "      <th>17.4</th>\n",
       "      <td>10</td>\n",
       "    </tr>\n",
       "    <tr>\n",
       "      <th>18.6</th>\n",
       "      <td>20</td>\n",
       "    </tr>\n",
       "    <tr>\n",
       "      <th>19.8</th>\n",
       "      <td>31</td>\n",
       "    </tr>\n",
       "    <tr>\n",
       "      <th>21.0</th>\n",
       "      <td>62</td>\n",
       "    </tr>\n",
       "    <tr>\n",
       "      <th>22.2</th>\n",
       "      <td>57</td>\n",
       "    </tr>\n",
       "    <tr>\n",
       "      <th>23.4</th>\n",
       "      <td>66</td>\n",
       "    </tr>\n",
       "    <tr>\n",
       "      <th>24.6</th>\n",
       "      <td>53</td>\n",
       "    </tr>\n",
       "    <tr>\n",
       "      <th>25.8</th>\n",
       "      <td>29</td>\n",
       "    </tr>\n",
       "    <tr>\n",
       "      <th>27.0</th>\n",
       "      <td>8</td>\n",
       "    </tr>\n",
       "  </tbody>\n",
       "</table>\n",
       "</div>"
      ],
      "text/plain": [
       "                    Frequency\n",
       "binned_temperature           \n",
       "15.0                        6\n",
       "16.2                       10\n",
       "17.4                       10\n",
       "18.6                       20\n",
       "19.8                       31\n",
       "21.0                       62\n",
       "22.2                       57\n",
       "23.4                       66\n",
       "24.6                       53\n",
       "25.8                       29\n",
       "27.0                        8"
      ]
     },
     "execution_count": 149,
     "metadata": {},
     "output_type": "execute_result"
    }
   ],
   "source": [
    "last_year_data = [{\"Temperature\": row[0], \"Frequency\": row[1]} for row in last_year]\n",
    "# print(ex_prcp_ana_data)\n",
    "# Sort the dataframe by date\n",
    "last_year_data_df = pd.DataFrame(last_year_data)\n",
    "# print(last_year_data_df)\n",
    "# bins\n",
    "bins = [14.9,16.2,17.4,18.6,19.8,21,22.2,23.4,24.6,25.8,27,28.3]\n",
    "# bin labels\n",
    "group_labels =[15,16.2,17.4,18.6,19.8,21,22.2,23.4,24.6,25.8,27]\n",
    "last_year_data_df[\"binned_temperature\"] = pd.cut(last_year_data_df[\"Temperature\"], bins, labels=group_labels)\n",
    "last_year_data_df\n",
    "Data_for_graph = last_year_data_df.groupby(\"binned_temperature\")[\"Frequency\"].sum()\n",
    "Data_for_graph_df = Data_for_graph.to_frame()\n",
    "# Data_for_graph_df = Data_for_graph[\"Frequency\"].sum()\n",
    "Data_for_graph_df"
   ]
  },
  {
   "cell_type": "code",
   "execution_count": 152,
   "metadata": {},
   "outputs": [
    {
     "name": "stdout",
     "output_type": "stream",
     "text": [
      "[(25.0, '2016-08-23'), (25.0, '2016-08-24'), (26.7, '2016-08-25'), (26.7, '2016-08-26'), (23.9, '2016-08-27'), (22.8, '2016-08-28'), (25.6, '2016-08-29'), (25.0, '2016-08-30'), (25.6, '2016-08-31'), (26.7, '2016-09-01'), (26.7, '2016-09-02'), (25.6, '2016-09-03'), (25.6, '2016-09-04'), (25.6, '2016-09-05'), (22.8, '2016-09-06'), (23.3, '2016-09-07'), (26.7, '2016-09-08'), (26.1, '2016-09-09'), (25.0, '2016-09-10'), (26.7, '2016-09-11'), (24.4, '2016-09-12'), (26.1, '2016-09-13'), (23.9, '2016-09-14'), (26.1, '2016-09-15'), (25.6, '2016-09-16'), (26.1, '2016-09-17'), (25.6, '2016-09-18'), (25.6, '2016-09-19'), (24.4, '2016-09-20'), (23.3, '2016-09-21'), (25.0, '2016-09-22'), (25.6, '2016-09-23'), (26.1, '2016-09-24'), (26.1, '2016-09-25'), (25.0, '2016-09-26'), (26.7, '2016-09-27'), (25.6, '2016-09-28'), (25.6, '2016-09-29'), (25.6, '2016-09-30'), (25.0, '2016-10-01'), (26.1, '2016-10-02'), (26.1, '2016-10-03'), (26.1, '2016-10-04'), (26.1, '2016-10-05'), (23.9, '2016-10-06'), (24.4, '2016-10-07'), (22.8, '2016-10-08'), (22.2, '2016-10-09'), (21.7, '2016-10-10'), (25.0, '2016-10-11'), (26.1, '2016-10-12'), (25.6, '2016-10-13'), (26.1, '2016-10-14'), (25.0, '2016-10-15'), (26.1, '2016-10-16'), (25.0, '2016-10-17'), (25.6, '2016-10-18'), (25.6, '2016-10-19'), (25.6, '2016-10-20'), (25.6, '2016-10-21'), (25.0, '2016-10-22'), (23.3, '2016-10-23'), (23.9, '2016-10-24'), (24.4, '2016-10-25'), (22.8, '2016-10-26'), (24.4, '2016-10-27'), (23.3, '2016-10-28'), (25.0, '2016-10-29'), (24.4, '2016-10-30'), (24.4, '2016-10-31'), (23.3, '2016-11-01'), (23.9, '2016-11-02'), (23.9, '2016-11-03'), (23.9, '2016-11-04'), (23.9, '2016-11-05'), (21.7, '2016-11-06'), (17.2, '2016-11-07'), (21.1, '2016-11-08'), (20.0, '2016-11-09'), (19.4, '2016-11-10'), (25.0, '2016-11-11'), (23.3, '2016-11-12'), (25.0, '2016-11-13'), (24.4, '2016-11-14'), (24.4, '2016-11-15'), (23.9, '2016-11-16'), (24.4, '2016-11-17'), (23.9, '2016-11-18'), (22.8, '2016-11-19'), (23.9, '2016-11-20'), (22.8, '2016-11-21'), (23.9, '2016-11-22'), (23.3, '2016-11-23'), (23.9, '2016-11-24'), (23.3, '2016-11-25'), (23.9, '2016-11-26'), (22.8, '2016-11-27'), (23.9, '2016-11-28'), (22.8, '2016-11-29'), (22.8, '2016-11-30'), (23.3, '2016-12-01'), (21.1, '2016-12-02'), (22.2, '2016-12-03'), (21.1, '2016-12-04'), (19.4, '2016-12-05'), (19.4, '2016-12-06'), (20.6, '2016-12-07'), (21.1, '2016-12-08'), (20.0, '2016-12-09'), (20.6, '2016-12-10'), (20.6, '2016-12-11'), (18.9, '2016-12-12'), (18.3, '2016-12-13'), (20.0, '2016-12-14'), (16.7, '2016-12-15'), (23.9, '2016-12-16'), (21.1, '2016-12-17'), (20.6, '2016-12-18'), (24.4, '2016-12-19'), (24.4, '2016-12-20'), (23.3, '2016-12-21'), (22.8, '2016-12-22'), (21.7, '2016-12-23'), (23.3, '2016-12-24'), (23.3, '2016-12-25'), (22.2, '2016-12-26'), (21.7, '2016-12-27'), (22.2, '2016-12-28'), (23.3, '2016-12-29'), (20.6, '2016-12-30'), (19.4, '2016-12-31'), (22.2, '2017-01-01'), (21.1, '2017-01-02'), (17.8, '2017-01-03'), (17.2, '2017-01-04'), (17.2, '2017-01-05'), (16.7, '2017-01-06'), (21.1, '2017-01-07'), (21.1, '2017-01-08'), (16.7, '2017-01-09'), (16.7, '2017-01-10'), (17.2, '2017-01-11'), (18.3, '2017-01-12'), (20.6, '2017-01-13'), (25.0, '2017-01-14'), (21.1, '2017-01-15'), (23.3, '2017-01-16'), (20.6, '2017-01-17'), (22.2, '2017-01-18'), (21.7, '2017-01-19'), (20.6, '2017-01-20'), (21.7, '2017-01-21'), (21.7, '2017-01-22'), (22.2, '2017-01-23'), (22.2, '2017-01-24'), (20.6, '2017-01-25'), (21.1, '2017-01-26'), (18.9, '2017-01-27'), (18.3, '2017-01-28'), (20.6, '2017-01-29'), (20.0, '2017-01-30'), (20.0, '2017-01-31'), (20.0, '2017-02-01'), (15.0, '2017-02-02'), (15.6, '2017-02-03'), (21.1, '2017-02-04'), (22.8, '2017-02-05'), (23.9, '2017-02-06'), (17.8, '2017-02-07'), (15.0, '2017-02-08'), (15.0, '2017-02-09'), (16.7, '2017-02-10'), (20.0, '2017-02-11'), (21.1, '2017-02-12'), (22.8, '2017-02-13'), (26.1, '2017-02-14'), (23.9, '2017-02-15'), (18.3, '2017-02-16'), (21.1, '2017-02-17'), (23.3, '2017-02-18'), (21.1, '2017-02-19'), (21.1, '2017-02-20'), (21.7, '2017-02-21'), (21.7, '2017-02-22'), (21.7, '2017-02-23'), (20.6, '2017-02-24'), (16.1, '2017-02-25'), (19.4, '2017-02-26'), (18.3, '2017-02-27'), (22.2, '2017-02-28'), (21.7, '2017-03-01'), (22.8, '2017-03-02'), (22.2, '2017-03-03'), (25.0, '2017-03-04'), (22.8, '2017-03-05'), (19.4, '2017-03-06'), (16.7, '2017-03-07'), (17.8, '2017-03-08'), (19.4, '2017-03-09'), (18.9, '2017-03-10'), (27.2, '2017-03-11'), (20.6, '2017-03-12'), (18.9, '2017-03-13'), (19.4, '2017-03-14'), (20.6, '2017-03-15'), (18.9, '2017-03-16'), (20.0, '2017-03-17'), (18.3, '2017-03-18'), (23.3, '2017-03-19'), (20.6, '2017-03-20'), (22.2, '2017-03-21'), (22.8, '2017-03-22'), (22.2, '2017-03-23'), (21.7, '2017-03-24'), (24.4, '2017-03-25'), (25.0, '2017-03-26'), (24.4, '2017-03-27'), (23.3, '2017-03-28'), (20.0, '2017-03-29'), (22.8, '2017-03-30'), (21.7, '2017-03-31'), (23.3, '2017-04-01'), (23.9, '2017-04-02'), (21.1, '2017-04-03'), (19.4, '2017-04-04'), (21.7, '2017-04-05'), (19.4, '2017-04-06'), (23.3, '2017-04-07'), (25.0, '2017-04-08'), (25.6, '2017-04-09'), (19.4, '2017-04-10'), (21.1, '2017-04-11'), (20.6, '2017-04-12'), (20.6, '2017-04-13'), (23.3, '2017-04-14'), (25.6, '2017-04-15'), (21.7, '2017-04-16'), (19.4, '2017-04-17'), (20.0, '2017-04-18'), (19.4, '2017-04-19'), (24.4, '2017-04-20'), (20.6, '2017-04-21'), (22.2, '2017-04-22'), (24.4, '2017-04-23'), (20.0, '2017-04-24'), (22.2, '2017-04-25'), (23.3, '2017-04-26'), (21.1, '2017-04-27'), (19.4, '2017-04-28'), (22.2, '2017-04-29'), (15.6, '2017-04-30'), (18.3, '2017-05-01'), (23.9, '2017-05-02'), (21.1, '2017-05-03'), (23.9, '2017-05-04'), (21.1, '2017-05-05'), (26.1, '2017-05-06'), (23.9, '2017-05-07'), (21.1, '2017-05-08'), (19.4, '2017-05-09'), (23.3, '2017-05-10'), (21.1, '2017-05-11'), (23.9, '2017-05-12'), (24.4, '2017-05-13'), (25.0, '2017-05-14'), (23.3, '2017-05-15'), (23.3, '2017-05-16'), (23.3, '2017-05-17'), (20.6, '2017-05-18'), (20.0, '2017-05-19'), (24.4, '2017-05-20'), (23.3, '2017-05-21'), (21.7, '2017-05-22'), (21.7, '2017-05-23'), (23.3, '2017-05-24'), (23.3, '2017-05-25'), (23.3, '2017-05-26'), (23.3, '2017-05-27'), (26.7, '2017-05-28'), (23.3, '2017-05-29'), (22.2, '2017-05-30'), (23.9, '2017-05-31'), (26.7, '2017-06-01'), (24.4, '2017-06-02'), (24.4, '2017-06-03'), (25.0, '2017-06-04'), (23.9, '2017-06-05'), (23.9, '2017-06-06'), (23.9, '2017-06-07'), (23.9, '2017-06-08'), (22.2, '2017-06-09'), (23.3, '2017-06-10'), (23.3, '2017-06-11'), (23.3, '2017-06-12'), (24.4, '2017-06-13'), (23.3, '2017-06-14'), (23.9, '2017-06-15'), (22.8, '2017-06-16'), (26.1, '2017-06-17'), (23.9, '2017-06-18'), (22.2, '2017-06-19'), (22.2, '2017-06-20'), (23.3, '2017-06-21'), (22.2, '2017-06-22'), (22.2, '2017-06-23'), (25.0, '2017-06-24'), (21.7, '2017-06-25'), (22.8, '2017-06-26'), (24.4, '2017-06-27'), (25.0, '2017-06-28'), (24.4, '2017-06-29'), (24.4, '2017-06-30'), (26.1, '2017-07-01'), (27.2, '2017-07-02'), (24.4, '2017-07-03'), (25.6, '2017-07-04'), (25.0, '2017-07-05'), (23.3, '2017-07-06'), (23.9, '2017-07-07'), (25.6, '2017-07-08'), (25.6, '2017-07-09'), (20.6, '2017-07-10'), (22.2, '2017-07-11'), (23.3, '2017-07-12'), (23.3, '2017-07-13'), (24.4, '2017-07-14'), (26.7, '2017-07-15'), (26.7, '2017-07-16'), (24.4, '2017-07-17'), (24.4, '2017-07-18'), (24.4, '2017-07-19'), (25.0, '2017-07-20'), (25.0, '2017-07-21'), (25.0, '2017-07-22'), (27.8, '2017-07-23'), (23.9, '2017-07-24'), (25.0, '2017-07-25'), (23.9, '2017-07-26'), (24.4, '2017-07-27'), (27.2, '2017-07-28'), (27.8, '2017-07-29'), (27.2, '2017-07-30'), (24.4, '2017-07-31'), (25.0, '2017-08-04'), (27.8, '2017-08-05'), (28.3, '2017-08-06'), (25.0, '2017-08-13'), (25.0, '2017-08-14'), (25.0, '2017-08-15'), (24.4, '2017-08-16'), (24.4, '2017-08-17'), (26.1, '2017-08-18')]\n"
     ]
    }
   ],
   "source": [
    "# Using the most active station id\n",
    "# Query the last 12 months of temperature observation data for this station and plot the results as a histogram\n",
    "last_year_new = session.query(Measurement.tobs, Measurement.date).\\\n",
    "    filter(Measurement.date >= year_ago).\\\n",
    "    filter(Measurement.station == \"USC00519281\").all()\n",
    "print(last_year_new)"
   ]
  },
  {
   "cell_type": "code",
   "execution_count": 158,
   "metadata": {},
   "outputs": [
    {
     "data": {
      "text/html": [
       "<div>\n",
       "<style scoped>\n",
       "    .dataframe tbody tr th:only-of-type {\n",
       "        vertical-align: middle;\n",
       "    }\n",
       "\n",
       "    .dataframe tbody tr th {\n",
       "        vertical-align: top;\n",
       "    }\n",
       "\n",
       "    .dataframe thead th {\n",
       "        text-align: right;\n",
       "    }\n",
       "</style>\n",
       "<table border=\"1\" class=\"dataframe\">\n",
       "  <thead>\n",
       "    <tr style=\"text-align: right;\">\n",
       "      <th></th>\n",
       "      <th>Temperature</th>\n",
       "      <th>Frequency</th>\n",
       "      <th>binned_temperature</th>\n",
       "    </tr>\n",
       "  </thead>\n",
       "  <tbody>\n",
       "    <tr>\n",
       "      <th>0</th>\n",
       "      <td>25.0</td>\n",
       "      <td>2016-08-23</td>\n",
       "      <td>24.5</td>\n",
       "    </tr>\n",
       "    <tr>\n",
       "      <th>1</th>\n",
       "      <td>25.0</td>\n",
       "      <td>2016-08-24</td>\n",
       "      <td>24.5</td>\n",
       "    </tr>\n",
       "    <tr>\n",
       "      <th>2</th>\n",
       "      <td>26.7</td>\n",
       "      <td>2016-08-25</td>\n",
       "      <td>25.7</td>\n",
       "    </tr>\n",
       "    <tr>\n",
       "      <th>3</th>\n",
       "      <td>26.7</td>\n",
       "      <td>2016-08-26</td>\n",
       "      <td>25.7</td>\n",
       "    </tr>\n",
       "    <tr>\n",
       "      <th>4</th>\n",
       "      <td>23.9</td>\n",
       "      <td>2016-08-27</td>\n",
       "      <td>23.3</td>\n",
       "    </tr>\n",
       "    <tr>\n",
       "      <th>...</th>\n",
       "      <td>...</td>\n",
       "      <td>...</td>\n",
       "      <td>...</td>\n",
       "    </tr>\n",
       "    <tr>\n",
       "      <th>347</th>\n",
       "      <td>25.0</td>\n",
       "      <td>2017-08-14</td>\n",
       "      <td>24.5</td>\n",
       "    </tr>\n",
       "    <tr>\n",
       "      <th>348</th>\n",
       "      <td>25.0</td>\n",
       "      <td>2017-08-15</td>\n",
       "      <td>24.5</td>\n",
       "    </tr>\n",
       "    <tr>\n",
       "      <th>349</th>\n",
       "      <td>24.4</td>\n",
       "      <td>2017-08-16</td>\n",
       "      <td>23.3</td>\n",
       "    </tr>\n",
       "    <tr>\n",
       "      <th>350</th>\n",
       "      <td>24.4</td>\n",
       "      <td>2017-08-17</td>\n",
       "      <td>23.3</td>\n",
       "    </tr>\n",
       "    <tr>\n",
       "      <th>351</th>\n",
       "      <td>26.1</td>\n",
       "      <td>2017-08-18</td>\n",
       "      <td>25.7</td>\n",
       "    </tr>\n",
       "  </tbody>\n",
       "</table>\n",
       "<p>352 rows × 3 columns</p>\n",
       "</div>"
      ],
      "text/plain": [
       "     Temperature   Frequency binned_temperature\n",
       "0           25.0  2016-08-23               24.5\n",
       "1           25.0  2016-08-24               24.5\n",
       "2           26.7  2016-08-25               25.7\n",
       "3           26.7  2016-08-26               25.7\n",
       "4           23.9  2016-08-27               23.3\n",
       "..           ...         ...                ...\n",
       "347         25.0  2017-08-14               24.5\n",
       "348         25.0  2017-08-15               24.5\n",
       "349         24.4  2017-08-16               23.3\n",
       "350         24.4  2017-08-17               23.3\n",
       "351         26.1  2017-08-18               25.7\n",
       "\n",
       "[352 rows x 3 columns]"
      ]
     },
     "execution_count": 158,
     "metadata": {},
     "output_type": "execute_result"
    }
   ],
   "source": [
    "last_year_new_data = [{\"Temperature\": row[0], \"Frequency\": row[1]} for row in last_year_new]\n",
    "# print(ex_prcp_ana_data)\n",
    "# Sort the dataframe by date\n",
    "last_year_new_data_df = pd.DataFrame(last_year_new_data)\n",
    "# print(last_year_new_data_df)\n",
    "# bins\n",
    "bins = [14.9,16.1,17.3,18.5,19.7,20.9,22.1,23.3,24.5,25.7,26.9,28.1,29.3]\n",
    "# bin labels\n",
    "group_labels =[14.9,16.1,17.3,18.5,19.7,20.9,22.1,23.3,24.5,25.7,26.9,28.1]\n",
    "last_year_new_data_df[\"binned_temperature\"] = pd.cut(last_year_new_data_df[\"Temperature\"], bins, labels=group_labels)\n",
    "last_year_new_data_df\n",
    "# new_data_for_graph = last_year_new_data_df.groupby(\"binned_temperature\")[\"Frequency\"].sum()\n",
    "# new_data_for_graph_df = new_data_for_graph.to_frame()\n",
    "# # Data_for_graph_df = Data_for_graph[\"Frequency\"].sum()\n",
    "# Data_for_graph_df"
   ]
  },
  {
   "cell_type": "code",
   "execution_count": 159,
   "metadata": {},
   "outputs": [
    {
     "data": {
      "image/png": "[encoded data removed]",
      "text/plain": [
       "<Figure size 640x480 with 1 Axes>"
      ]
     },
     "metadata": {},
     "output_type": "display_data"
    }
   ],
   "source": [
    "plt.hist(last_year_new_data_df['binned_temperature'])\n",
    "plt.xlabel('Temperature')\n",
    "plt.ylabel('Frequency')\n",
    "plt.show()"
   ]
  },
  {
   "cell_type": "markdown",
   "metadata": {},
   "source": [
    "# Close session"
   ]
  },
  {
   "cell_type": "code",
   "execution_count": null,
   "metadata": {},
   "outputs": [],
   "source": [
    "# Close Session\n",
    "session.close()"
   ]
  },
  {
   "cell_type": "code",
   "execution_count": null,
   "metadata": {},
   "outputs": [],
   "source": []
  }
 ],
 "metadata": {
  "anaconda-cloud": {},
  "kernel_info": {
   "name": "python3"
  },
  "kernelspec": {
   "display_name": "Python 3 (ipykernel)",
   "language": "python",
   "name": "python3"
  },
  "language_info": {
   "codemirror_mode": {
    "name": "ipython",
    "version": 3
   },
   "file_extension": ".py",
   "mimetype": "text/x-python",
   "name": "python",
   "nbconvert_exporter": "python",
   "pygments_lexer": "ipython3",
   "version": "3.9.13"
  },
  "nteract": {
   "version": "0.12.3"
  },
  "varInspector": {
   "cols": {
    "lenName": 16,
    "lenType": 16,
    "lenVar": 40
   },
   "kernels_config": {
    "python": {
     "delete_cmd_postfix": "",
     "delete_cmd_prefix": "del ",
     "library": "var_list.py",
     "varRefreshCmd": "print(var_dic_list())"
    },
    "r": {
     "delete_cmd_postfix": ") ",
     "delete_cmd_prefix": "rm(",
     "library": "var_list.r",
     "varRefreshCmd": "cat(var_dic_list()) "
    }
   },
   "types_to_exclude": [
    "module",
    "function",
    "builtin_function_or_method",
    "instance",
    "_Feature"
   ],
   "window_display": false
  }
 },
 "nbformat": 4,
 "nbformat_minor": 2
}
